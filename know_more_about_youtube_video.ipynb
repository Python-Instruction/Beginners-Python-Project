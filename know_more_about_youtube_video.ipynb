{
 "cells": [
  {
   "cell_type": "code",
   "execution_count": 10,
   "metadata": {},
   "outputs": [
    {
     "name": "stdout",
     "output_type": "stream",
     "text": [
      "Please enter a YouTube link:https://www.youtube.com/watch?v=y7TC2Ef__zw&list=RDy7TC2Ef__zw&start_radio=1\n",
      "Title: Phir Le Aya Dil-Redux Full Video - Barfi!|Ranbir, Priyanka Chopra, Ileana D'Cruz|Shafqat\n",
      "Duration:  185\n",
      "Thumbnail Link: https://i.ytimg.com/vi/y7TC2Ef__zw/maxresdefault.jpg\n",
      "Description: 'Phir Le Aya Dil' Reprise version' from 'Barfi!' is truly a scintillating track performed by Shafqat Amanat Ali's voice is melodious and smooth, the enchanting music of the film is directed by Pritam. This Bollywood Romantic-comedy drama is written and co-produced by Anurag Basu, it depicts the life of Barfi played by Ranbir Kapoor who is mute and deaf and Jhilmil who is autistic, played by Priyanka Chopra and Shruti, played by Ileana D'Cruz.\n",
      "\n",
      "Song Name - Phir Le Aya Dil - Redux\n",
      "Movie - Barfi!\n",
      "Singer - Shafqat Amanat Ali \n",
      "Composer - Pritam\n",
      "Lyricists - Sayeed Quadri\n",
      "Music Label - UTV\n",
      "\n",
      "© 2012 UTV Software Communications Limited\n",
      "\n",
      "Subscribe:\n",
      "\n",
      "Vevo - http://www.youtube.com/user/sonymusicindiavevo?sub_confirmation=1\n",
      "\n",
      "Like us:\n",
      "Facebook: https://www.facebook.com/SonyMusicIndia \n",
      "\n",
      "Follow us:\n",
      "Twitter: https://twitter.com/sonymusicindia\n",
      "G+: https://plus.google.com/+SonyMusicIndia\n",
      "Views:  29959715\n",
      "Age Restricted: False\n",
      "Video ID: y7TC2Ef__zw\n"
     ]
    }
   ],
   "source": [
    "# Importing YouTube Module from pytube library\n",
    "\n",
    "from pytube import YouTube\n",
    "\n",
    "# Prompting user for Youtube Video link\n",
    "\n",
    "youtube_url = input(\"Please enter a YouTube link:\")\n",
    "\n",
    "# Creating YouTube object with the link\n",
    "\n",
    "myVideo = YouTube(youtube_url)\n",
    "\n",
    "# Title of the Video\n",
    "\n",
    "print(\"Title: \" + myVideo.title)\n",
    "\n",
    "# Length of the Video in Seconds\n",
    "\n",
    "print(\"Duration: \" , myVideo.length)\n",
    "\n",
    "# URL of the Thumbnail of the video\n",
    "\n",
    "print(\"Thumbnail Link: \" + myVideo.thumbnail_url)\n",
    "\n",
    "# Description of the Video\n",
    "\n",
    "print(\"Description: \" + myVideo.description)\n",
    "\n",
    "# Total Views of the Video\n",
    "\n",
    "print(\"Views: \" , myVideo.views)\n",
    "\n",
    "# Age Restricted Content\n",
    "\n",
    "print(\"Age Restricted: \" + str(myVideo.age_restricted))\n",
    "\n",
    "# ID of the Video\n",
    "\n",
    "print(\"Video ID: \" + myVideo.video_id)"
   ]
  },
  {
   "cell_type": "code",
   "execution_count": null,
   "metadata": {},
   "outputs": [],
   "source": [
    "pip uninstall pytube3"
   ]
  }
 ],
 "metadata": {
  "kernelspec": {
   "display_name": "Python 3",
   "language": "python",
   "name": "python3"
  },
  "language_info": {
   "codemirror_mode": {
    "name": "ipython",
    "version": 3
   },
   "file_extension": ".py",
   "mimetype": "text/x-python",
   "name": "python",
   "nbconvert_exporter": "python",
   "pygments_lexer": "ipython3",
   "version": "3.7.4"
  }
 },
 "nbformat": 4,
 "nbformat_minor": 2
}
